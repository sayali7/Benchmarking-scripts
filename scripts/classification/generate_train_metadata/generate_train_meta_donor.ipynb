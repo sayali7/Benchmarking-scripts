{
 "cells": [
  {
   "cell_type": "code",
   "execution_count": 1,
   "id": "ba0cc23d-bc62-44f9-aff9-765deab26ae5",
   "metadata": {},
   "outputs": [],
   "source": [
    "import pandas as pd\n",
    "import tqdm\n",
    "import pickle\n",
    "import numpy as np\n",
    "from sklearn.model_selection import train_test_split"
   ]
  },
  {
   "cell_type": "code",
   "execution_count": 2,
   "id": "55584063-6ced-4860-8df6-c14eccf7c2bb",
   "metadata": {},
   "outputs": [],
   "source": [
    "clinical_meta = pd.read_csv(\"/home/ubuntu/metadata_latest_oct5.csv\",low_memory=False)\n",
    "meta_obs = pd.read_csv(\"/home/ubuntu/MSSM_meta_obs.csv\")\n",
    "meta_obs.index = meta_obs.barcodekey"
   ]
  },
  {
   "cell_type": "code",
   "execution_count": 3,
   "id": "9172bbe0-8bac-4eeb-a393-803d78ce44b9",
   "metadata": {},
   "outputs": [],
   "source": [
    "phen=\"c07x\""
   ]
  },
  {
   "cell_type": "code",
   "execution_count": null,
   "id": "4e4f3d6e-e68d-4db4-be71-6f600ebafd38",
   "metadata": {},
   "outputs": [],
   "source": [
    "clinical_meta = clinical_meta.dropna(subset = [phen])\n",
    "\n",
    "donors = clinical_meta[\"SubID\"].to_list()\n",
    "\n",
    "meta_obs = meta_obs[meta_obs[\"SubID\"].isin(donors)]\n",
    "\n",
    "donors_meta = pd.merge(meta_obs, clinical_meta[[f\"{phen}\",\"SubID\"]], left_on=\"SubID\", right_on=\"SubID\")\n",
    "donors_meta.index = meta_obs.index"
   ]
  },
  {
   "cell_type": "code",
   "execution_count": 8,
   "id": "c7457b3b-fde9-499c-9abc-3cda47bbdf28",
   "metadata": {},
   "outputs": [
    {
     "data": {
      "text/plain": [
       "<Axes: >"
      ]
     },
     "execution_count": 8,
     "metadata": {},
     "output_type": "execute_result"
    },
    {
     "data": {
      "image/png": "[encoded data removed]",
      "text/plain": [
       "<Figure size 640x480 with 1 Axes>"
      ]
     },
     "metadata": {},
     "output_type": "display_data"
    }
   ],
   "source": [
    "donors_meta[\"SubID\"].value_counts().hist()"
   ]
  },
  {
   "cell_type": "code",
   "execution_count": 9,
   "id": "3a16c219-6bdf-4e0b-a910-a180ef13a30d",
   "metadata": {},
   "outputs": [
    {
     "data": {
      "text/plain": [
       "283"
      ]
     },
     "execution_count": 9,
     "metadata": {},
     "output_type": "execute_result"
    }
   ],
   "source": [
    "len(donors_meta[\"SubID\"].unique())"
   ]
  },
  {
   "cell_type": "code",
   "execution_count": 10,
   "id": "0ea622b0-a541-419d-8446-0bf7d6e2e754",
   "metadata": {},
   "outputs": [
    {
     "data": {
      "text/plain": [
       "28"
      ]
     },
     "execution_count": 10,
     "metadata": {},
     "output_type": "execute_result"
    }
   ],
   "source": [
    "sum(donors_meta[\"SubID\"].value_counts()<1000)"
   ]
  },
  {
   "cell_type": "code",
   "execution_count": 11,
   "id": "dbbb8fea-19f2-4271-947f-06500bfc6c36",
   "metadata": {},
   "outputs": [],
   "source": [
    "donor_subset = donors_meta[\"SubID\"].value_counts()[donors_meta[\"SubID\"].value_counts()>1000].index"
   ]
  },
  {
   "cell_type": "code",
   "execution_count": 12,
   "id": "bbe4c6f3-d88b-4ac0-a24a-e3ae26de4d30",
   "metadata": {},
   "outputs": [],
   "source": [
    "donors_meta = donors_meta[donors_meta[\"SubID\"].isin(donor_subset)]"
   ]
  },
  {
   "cell_type": "code",
   "execution_count": 13,
   "id": "2680d056-0a25-4d41-b195-85a4f2e76a35",
   "metadata": {},
   "outputs": [],
   "source": [
    "donors_meta = donors_meta[[\"barcodekey\",\"SubID\", f\"{phen}\"]]"
   ]
  },
  {
   "cell_type": "code",
   "execution_count": 14,
   "id": "c026648f-54d3-45da-865b-a4dafe69b074",
   "metadata": {},
   "outputs": [],
   "source": [
    "donors_meta = donors_meta.drop_duplicates(subset=[\"SubID\"])"
   ]
  },
  {
   "cell_type": "code",
   "execution_count": 15,
   "id": "1ac4beec-831e-46c2-93b5-f7e2bf05bd35",
   "metadata": {},
   "outputs": [
    {
     "data": {
      "text/plain": [
       "(255, 3)"
      ]
     },
     "execution_count": 15,
     "metadata": {},
     "output_type": "execute_result"
    }
   ],
   "source": [
    "donors_meta.shape"
   ]
  },
  {
   "cell_type": "code",
   "execution_count": 21,
   "id": "13df3017-5c83-47e8-b073-f7d059297358",
   "metadata": {},
   "outputs": [],
   "source": [
    "train_df, val_df = train_test_split(\n",
    "    donors_meta,\n",
    "    test_size=0.2,\n",
    "    stratify=donors_meta[f\"{phen}\"],\n",
    "    random_state=42\n",
    ")"
   ]
  },
  {
   "cell_type": "code",
   "execution_count": 22,
   "id": "ec4f1141-bcbf-4efa-8926-803a6b2f52fe",
   "metadata": {},
   "outputs": [
    {
     "data": {
      "text/plain": [
       "array(['SCZ', 'Control'], dtype=object)"
      ]
     },
     "execution_count": 22,
     "metadata": {},
     "output_type": "execute_result"
    }
   ],
   "source": [
    "phenotypes = donors_meta[phen].unique()\n",
    "phenotypes"
   ]
  },
  {
   "cell_type": "code",
   "execution_count": 23,
   "id": "e5b2cef8-a158-4492-8767-6578839005e1",
   "metadata": {},
   "outputs": [
    {
     "name": "stdout",
     "output_type": "stream",
     "text": [
      "Cells (train): 204   Donors (val): 51\n",
      "Phenotype ratio (train):\n",
      "c07x\n",
      "Control    0.661765\n",
      "SCZ        0.338235\n",
      "Name: proportion, dtype: float64 c07x\n",
      "Control    135\n",
      "SCZ         69\n",
      "Name: count, dtype: int64\n",
      "Phenotype ratio (val):\n",
      "c07x\n",
      "Control    0.666667\n",
      "SCZ        0.333333\n",
      "Name: proportion, dtype: float64 c07x\n",
      "Control    34\n",
      "SCZ        17\n",
      "Name: count, dtype: int64\n"
     ]
    }
   ],
   "source": [
    "print(\"Cells (train):\", len(train_df), \"  Donors (val):\", len(val_df))\n",
    "print(\"Phenotype ratio (train):\")\n",
    "print(train_df[f\"{phen}\"].value_counts(normalize=True),train_df[f\"{phen}\"].value_counts())\n",
    "print(\"Phenotype ratio (val):\")\n",
    "print(val_df[f\"{phen}\"].value_counts(normalize=True), val_df[f\"{phen}\"].value_counts())\n",
    "\n",
    "train_df = train_df[[\"SubID\",f\"{phen}\"]]\n",
    "\n",
    "train_df[\"barcodekey\"] = train_df.index\n",
    "train_df\n",
    "\n",
    "val_df = val_df[[\"SubID\",f\"{phen}\"]]\n",
    "\n",
    "val_df[\"barcodekey\"] = val_df.index\n",
    "val_df\n",
    "\n",
    "train_df[phen] = train_df[phen].map({\"SCZ\":1, \"Control\":0})\n",
    "val_df[phen] = val_df[phen].map({\"SCZ\":1, \"Control\":0})\n",
    "\n",
    "data={\"train\": train_df, \"test\": val_df}"
   ]
  },
  {
   "cell_type": "code",
   "execution_count": 25,
   "id": "c0201930-d884-4d5a-bb9d-17dfa7dd0e73",
   "metadata": {},
   "outputs": [],
   "source": [
    "with open(f\"/home/ubuntu/scripts/Train_cv_to_send/Donor-level_Phenotype_classification_files/{phen}_split_seed42.pkl\", 'wb') as handle:\n",
    "    pickle.dump(data,handle)"
   ]
  },
  {
   "cell_type": "code",
   "execution_count": 24,
   "id": "f22900c5-7fab-4249-81b0-0c3ce93eac42",
   "metadata": {},
   "outputs": [
    {
     "data": {
      "text/html": [
       "<div>\n",
       "<style scoped>\n",
       "    .dataframe tbody tr th:only-of-type {\n",
       "        vertical-align: middle;\n",
       "    }\n",
       "\n",
       "    .dataframe tbody tr th {\n",
       "        vertical-align: top;\n",
       "    }\n",
       "\n",
       "    .dataframe thead th {\n",
       "        text-align: right;\n",
       "    }\n",
       "</style>\n",
       "<table border=\"1\" class=\"dataframe\">\n",
       "  <thead>\n",
       "    <tr style=\"text-align: right;\">\n",
       "      <th></th>\n",
       "      <th>SubID</th>\n",
       "      <th>c07x</th>\n",
       "      <th>barcodekey</th>\n",
       "    </tr>\n",
       "    <tr>\n",
       "      <th>barcodekey</th>\n",
       "      <th></th>\n",
       "      <th></th>\n",
       "      <th></th>\n",
       "    </tr>\n",
       "  </thead>\n",
       "  <tbody>\n",
       "    <tr>\n",
       "      <th>M47734-2-AAACCCAAGCCTTTGA-0</th>\n",
       "      <td>M47734</td>\n",
       "      <td>0</td>\n",
       "      <td>M47734-2-AAACCCAAGCCTTTGA-0</td>\n",
       "    </tr>\n",
       "    <tr>\n",
       "      <th>M8926-1-AAACCCATCGCTGACG-0</th>\n",
       "      <td>M8926</td>\n",
       "      <td>0</td>\n",
       "      <td>M8926-1-AAACCCATCGCTGACG-0</td>\n",
       "    </tr>\n",
       "    <tr>\n",
       "      <th>M55015-3-AAACCCAAGAGTAACT-0</th>\n",
       "      <td>M55015</td>\n",
       "      <td>0</td>\n",
       "      <td>M55015-3-AAACCCAAGAGTAACT-0</td>\n",
       "    </tr>\n",
       "    <tr>\n",
       "      <th>M69984-1-AAACCCAAGATCGCTT-0</th>\n",
       "      <td>M69984</td>\n",
       "      <td>0</td>\n",
       "      <td>M69984-1-AAACCCAAGATCGCTT-0</td>\n",
       "    </tr>\n",
       "    <tr>\n",
       "      <th>M54529-1-AAACCCAGTGCCAAGA-0</th>\n",
       "      <td>M54529</td>\n",
       "      <td>1</td>\n",
       "      <td>M54529-1-AAACCCAGTGCCAAGA-0</td>\n",
       "    </tr>\n",
       "  </tbody>\n",
       "</table>\n",
       "</div>"
      ],
      "text/plain": [
       "                              SubID  c07x                   barcodekey\n",
       "barcodekey                                                            \n",
       "M47734-2-AAACCCAAGCCTTTGA-0  M47734     0  M47734-2-AAACCCAAGCCTTTGA-0\n",
       "M8926-1-AAACCCATCGCTGACG-0    M8926     0   M8926-1-AAACCCATCGCTGACG-0\n",
       "M55015-3-AAACCCAAGAGTAACT-0  M55015     0  M55015-3-AAACCCAAGAGTAACT-0\n",
       "M69984-1-AAACCCAAGATCGCTT-0  M69984     0  M69984-1-AAACCCAAGATCGCTT-0\n",
       "M54529-1-AAACCCAGTGCCAAGA-0  M54529     1  M54529-1-AAACCCAGTGCCAAGA-0"
      ]
     },
     "execution_count": 24,
     "metadata": {},
     "output_type": "execute_result"
    }
   ],
   "source": [
    "train_df.head()"
   ]
  }
 ],
 "metadata": {
  "kernelspec": {
   "display_name": "Python 3 (ipykernel)",
   "language": "python",
   "name": "python3"
  },
  "language_info": {
   "codemirror_mode": {
    "name": "ipython",
    "version": 3
   },
   "file_extension": ".py",
   "mimetype": "text/x-python",
   "name": "python",
   "nbconvert_exporter": "python",
   "pygments_lexer": "ipython3",
   "version": "3.8.5"
  }
 },
 "nbformat": 4,
 "nbformat_minor": 5
}
